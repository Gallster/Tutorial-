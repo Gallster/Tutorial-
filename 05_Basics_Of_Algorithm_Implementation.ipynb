{
 "cells": [
  {
   "cell_type": "markdown",
   "metadata": {},
   "source": [
    "# Intoduction, What you will learn in this tutorial\n",
    "\n",
    "In this tutorial, you’re going to learn about the basics of algorithm implementation. The tutorial starts by explaining what an algorithm actually is. You will be told a story of a guy called Bob who wants to collect some nuts. The story will help you to develop an understanding of the underlying concepts of algorithms, such as how to design an algorithm and how to solve a general problem using the divide-and-conquer method. To judge the performance of your own or any other algorithm, you will learn about runtime and memory-usage as an indicator of quality for a certain algorithm. You will also learn about a function called “jit” that can optimize an algorithm very easily and there will also be a general discussion about the pros and cons of using Jit.  As an example of performance measurement, you will see the implementation of different solutions to a sorting-problem. Furthermore, with the use of another example, you will be taught about the problem of the so-called concept of stack overflow and how to avoid it. \n",
    "\n",
    "# Table of contents\n",
    "1. [What is an Algorithm?](#section1)\n",
    "    1.1. [Practical example](#sub1.1)    \n",
    "2. [Algorithms and Programming](#section2)\n",
    "    2.1 [Algorithm implementation](#sub2.1)\n",
    "    2.2 [Introduction to the problem](#sub2.2)\n",
    "    2.3 [Example Code 1](#ex1)\n",
    "    2.4 [Example Code 2](#ex2)\n",
    "    2.5 [Example Code 3](#ex3)\n",
    "3. [Performance Measurement of Sorting Algorithms](#section3)\n",
    "4. [Results](#section4)\n",
    "5. [JIT Optimization](#section5)\n",
    "    5.1 [JIT Results](#sub5.1)\n",
    "6. [Stack Overflow](#section6)\n",
    "7. [Summary](#section7)"
   ]
  },
  {
   "cell_type": "markdown",
   "metadata": {},
   "source": [
    "## What is an Algorithm?\n",
    "<a name=\"section1\"></a>\n",
    "At its most basic level, an algorithm is a step-by-step procedure for solving a problem or specifying tasks to be done. Although you can theoretically use an algorithm for almost any application, it is commonly used in computer science and mathematics. \n",
    "\n",
    "The following picture is a basic example of an algorithm: \n",
    "\n",
    "<img src=\"https://upload.wikimedia.org/wikipedia/commons/thumb/9/91/LampFlowchart.svg/1200px-LampFlowchart.svg.png\" width=\"300\" height=\"450\" >\n",
    "\n",
    "### Practical example\n",
    "<a name=\"sub1.1\"></a>\n",
    "Let us introduce you to Bob. Bob has a walnut tree in his garden and he loves walnuts. He knows that there are walnuts from his tree in his garden. While some of them are already rotten, the others are ready for pickung and consuming. Bob knows, that over the next week, more and more walnuts will fall from the tree onto the ground. Bob now wants to solve the problem of collecting the walnuts. Since he's a computer scientist, he tackels the problem as a proper computer scientist would:\n",
    "\n",
    "1. Bob tries to understand the problem:\n",
    "   - Bob wants to collect the walnuts. Some are still in the tree getting ripe, others are lying on the ground in the moisty grass, fresh and rotten ones. In addition, the nuts are hard to spot in the grass and to distinguish between fresh and rotten, Bob has to pick them up to get a closer look. Bob also has a bucket for collecting where he will put the fresh nuts. Since reallife programming-problems are not like reallife problems, you need to structer your process of understanding a problem: you devide and conquer the problem: \"Collecting walnuts\" devides to \"find the nuts\" and \"pick it up\". And \"find the nuts\" devides to \"sens the nuts\", which can be solved by feeling them with your feets in the gras, using your hands, or just take a very close look. Also Bob has to be clear hat his aim clearly is: Does he want as many non-rotten nuts as possible, or will he be statisfied with just the majority?\n",
    "\n",
    "2. Bob thinks about different ways to solve the problem of collecting nuts:\n",
    "   - Each of the part-solutions you get after divide and conquer can be put together in differents ways to solve the original problem: \n",
    "\n",
    "   * A: Bob could go to the tree and stay there with his bucket, observing the nuts falling down and collecting one by one \n",
    "   * B: Bob goes to the tree each day. Crouch walks under the tree through the grass. As he finds a nut, he decides, whether is rotten or not and put the non-rotten nuts in his bucket. \n",
    "   * C: Bob walks through the grass with his bucket, trying to feel the nuts with his feets and bend and collect them each time. When the bucket is full, he sorts out the rotten ones.\n",
    "   \n",
    "3. Map it out, using psuedo-code, a flowchart, or something similar\n",
    "   - this helps you to viszualice and and evaluate you solutions: While A would garantee you get close to all the nuts, it would take very long. B would be less time consuming but exhausting. And if Bob does it this way, the workload will grow from day to day, since he has to revaluate more and more rotten one, sinc he doesn't pick them up, theire number of evaluations each day will increase. So Bob goes for C: quick way, no bending and a more or less steady number of evaluations. Surely hi will no get the highest amount of non-rotten nuts, but still enough. Work smart, not hard. All the possible solutions have their pros and cons.\n",
    "   \n",
    "In our reallife-problem, Bob algorithm can be executed now. He is happy with his walnuts an proud of the smart algorithm he just implemented. In the following you will be thaught how to tackle a actual programming-problem. In Coding you also add two more steps, which are technical required, and not necessary in our reallife-problem:\n",
    "Implement the solution and Test and debug your code."
   ]
  },
  {
   "cell_type": "markdown",
   "metadata": {},
   "source": [
    "## Algorithms and programming \n",
    "<a name=\"section2\"></a>\n",
    "Algorithms are the cornerstone of the programming world, as every program revolves around the use of algorithms. Furthermore, algorithms are created independently from underlying languages and can therefore be implemented in every programming language. The following is a basic outline of how to create an algorithm for computer science:\n",
    "1. Understand the problem\n",
    "2. Think of different ways to solve it, and pick what you believe to be the most efficient way\n",
    "3. Map it out, using psuedo-code, a flowchart, or something similar\n",
    "4. Implement the solution, i.e. translate your method into the actual coding language\n",
    "5. Test and debug your code\n",
    "\n",
    "### Algorithm Implementation\n",
    "<a name=\"sub2.1\"></a>\n",
    "Today, we want to focus on the fourth step of algorithm creation: implementation. In this step, we want to translate our method into our coding method of choice, and ensure that it is written in an elegant and an optimal way. In other words, we want to make sure that the program is compact and fast. Oftentimes, these goals are aligned, but sometimes they are not. These ideas are talked about in terms of time complexity and space complexity. These are defined as follows:\n",
    "- **Time complexity**: the amount of time it takes to run an algorithm as a function of the amount of input\n",
    "- **Space complexity**: the amount of space/memory taken by an algorithm as a function of the amount of input\n",
    "\n",
    "In this tutorial, we will primarily discuss time. Although time complexity is extremely difficult to measure, in Python we can get a rough idea of the time demands of an algorithm by using the time library. The time library can measure many different types of time, but we need to focus on wall-clock time and CPU time, i.e. natural and processing time. Wall-clock time is the time we, as humans, are familiar with. In other words, this is the time a stopwatch would read if you started it at the beginning of the process and ended it exactly as it finished. CPU time is the time the computer dedicates to the process. As computers are running multiple processes at a time, not 100% of the wall-clock time will be dedicated to the specific process you are measuring. CPU time avoids this issue, and allows a more comparable measure.\n",
    "\n",
    "### Introduction to the problem \n",
    "<a name=\"sub2.2\"></a>\n",
    "In the endeavor of visualizing the implementation of algorithms, we will define a problem and then try to solve it with three different algorithm implementations. The code you see below is creating a set amount of different integers and inserting them into a list. The problem at hand now will be to sort the list so that our result will be a list ordered from the least integer to the greatest. There is actually an already built-in function in Python to `sort()` a list but in order to visualize the implementation of algorithms, we will not use `sort()`"
   ]
  },
  {
   "cell_type": "code",
   "execution_count": 1,
   "metadata": {},
   "outputs": [],
   "source": [
    "#Here we create an list that will then be sorted by our algorithms\n",
    "\n",
    "import random as rdm  #Here we import a library which has a function that will be used when generating the list\n",
    "\n",
    "\n",
    "N = 10000             #How many numbers that should be sorted\n",
    "lowerBound = 1        #Lower bound for the generated numbers\n",
    "upperBound = N*5      #Upper bound for the genereated numbers\n",
    "\n",
    "tutorial_list = []\n",
    "tutorial_list.extend(rdm.sample(range(int(lowerBound), int(upperBound)), int(N)))\n",
    "\n",
    "\n",
    "jit_list = tutorial_list #We will come back to this list later...\n",
    "\n"
   ]
  },
  {
   "cell_type": "markdown",
   "metadata": {},
   "source": [
    "<div class=\"alert alert-block alert-info\"> The code above generates the list which we will be used when executing our sorting algorithms. The list consists of N randomly selected unique integers from the range 1 to Nx5. The reason why the upperbound is Nx5 is because of the function `rdm.sample()`, which will draw an integer from the range withut reinserting it. So, to not run out of numbers to pick, the range has to be grater than N. \n",
    "\n",
    "When the random selection has been made the list will be saved to tutorial_list which we will use in our implementation of algorithms. "
   ]
  },
  {
   "cell_type": "markdown",
   "metadata": {},
   "source": [
    "<a name=\"ex1\"></a>\n",
    "### Insertion Sort"
   ]
  },
  {
   "cell_type": "code",
   "execution_count": 2,
   "metadata": {},
   "outputs": [],
   "source": [
    "\n",
    "#Algorithm 1, a so-called insertion sort\n",
    "\n",
    "insertion_list = tutorial_list\n",
    "\n",
    "def isort(insertion_list):\n",
    "    for i in range(1, len(insertion_list)):\n",
    "        value = insertion_list[i]\n",
    "        spot = i \n",
    "        while spot > 0 and insertion_list[spot-1] > value:\n",
    "            insertion_list[spot] = insertion_list[spot-1]\n",
    "            spot = spot-1\n",
    "        insertion_list[spot] = value"
   ]
  },
  {
   "cell_type": "markdown",
   "metadata": {},
   "source": [
    "<div class=\"alert alert-block alert-info\">\n",
    "\n",
    "Code inspired by this [source](http://interactivepython.org/courselib/static/pythonds/SortSearch/TheInsertionSort.html?fbclid=IwAR1dTXxY6dgWzmRoo9ZCIq2iRrghxf_JeTrqWt0BcdUTa-my_vsR7iFcRtQ \"interactivepython.org\")\n",
    "\n",
    "The above function is an implementation of a so-called insertion sort algorithm. What the basically does is dividing the list into two sublists. One that is sorted and one that is not. First, it assumes that the first element in the list is sorted, then it will compare the first position to the second position. Given that the integer in the second position is lesser the algorithm will switch position of the two integer so that the lesser integer ends up in the first spot. The “sorted list” now consists of two integers. Because of the while loop, the procedure will be repeated for all the numbers until every number is a part of the sorted list."
   ]
  },
  {
   "cell_type": "markdown",
   "metadata": {},
   "source": [
    "<a name=\"ex2\"></a>\n",
    "### Shell Sort"
   ]
  },
  {
   "cell_type": "code",
   "execution_count": 3,
   "metadata": {},
   "outputs": [],
   "source": [
    "#Algorithm 2, a so-called shell sort\n",
    "\n",
    "shell_list = tutorial_list\n",
    "\n",
    "def shell_sort(shell_list):\n",
    "    gap = len(shell_list) // 2 \n",
    "    while gap > 0:\n",
    "        for start_position in range(gap):\n",
    "            gap_insertion_sort(shell_list, start_position, gap)\n",
    " \n",
    "        gap = gap // 2\n",
    " \n",
    " \n",
    "def gap_insertion_sort(shell_list, start_position, gap):\n",
    "    for i in range(start_position+gap, len(shell_list), gap):\n",
    "        current_value = shell_list[i]\n",
    "        position = i\n",
    " \n",
    "        while position >= gap and shell_list[position-gap] > current_value:\n",
    "            shell_list[position] = shell_list[position - gap]\n",
    "            position = position-gap\n",
    " \n",
    "        shell_list[position] = current_value"
   ]
  },
  {
   "cell_type": "markdown",
   "metadata": {},
   "source": [
    "<div class=\"alert alert-block alert-info\">\n",
    "\n",
    "Code inspired by this [source](http://www.zaxrosenberg.com/must-know-sorting-algorithms-in-python/?fbclid=IwAR3kUYFi70WLoPgBvUBxxy0kKhHrUPGxTZNUgO24uX__0c-dOEyQWDwWkv4 \"zaxrosenberg.com\")\n",
    "\n",
    "A shell sort improves on the insertion sort by dividing the original list into smaller sublists which are then sorted by insertion sort. Therefore, this sorting method uses the \"divide and conquer\" strategy. It starts by comparing pairs of elements far apart from each other and sorting them while reducing the comparison gap between them. The shellsort is heavily dependent on what type of gap sequence it uses. Our gap sequence is the original from 1959. The comparison continues until the gap is filled - ending the sort.\n",
    " "
   ]
  },
  {
   "cell_type": "markdown",
   "metadata": {},
   "source": [
    "<a name=\"ex3\"></a>\n",
    "### Bubble Sort"
   ]
  },
  {
   "cell_type": "code",
   "execution_count": 4,
   "metadata": {},
   "outputs": [],
   "source": [
    "#Algorithm 3, a so-called bubble sort\n",
    "\n",
    "bubble_list = tutorial_list\n",
    "\n",
    "def bubblesort(bubble_list):\n",
    "\n",
    "# Swap the elements to arrange in order\n",
    "    for i in range(len(bubble_list)-1,0,-1):\n",
    "        for idx in range(i):\n",
    "            if bubble_list[idx] > bubble_list[idx+1]:\n",
    "                temp = bubble_list[idx]\n",
    "                bubble_list[idx] = bubble_list[idx+1]\n",
    "                bubble_list[idx+1] = temp"
   ]
  },
  {
   "cell_type": "markdown",
   "metadata": {},
   "source": [
    "<div class=\"alert alert-block alert-info\">\n",
    "\n",
    "Code inspired by this [source](http://interactivepython.org/runestone/static/pythonds/SortSearch/TheBubbleSort.html \"interactivepython.org\")\n",
    "\n",
    "The function above is an implementation of a style of sorting algorithm called a bubble algorithm. In essence, this is the simplest sorting algorithm. The way that it works is by repeatedly running through a list or array and swapping the elements that are next to each other if they are in the incorrect order. Take, for example, this list: [1, 3, 2, 9, 6]. First, the function will compare the first two elements: 1 and 3. It sees that they are in order, and thus will not do anything. Next, it will compare 3 and 2, and seeing that they are not in order, will swap their positions, changing the list to [1, 2, 3, 9, 6]. The algorithm will continue this pattern for the rest of the list and then restart from the beginning to ensure that everything is in order, ending with the sorted list of [1, 2, 3, 6, 9]. The bubble sort is a popular implementation because of its simplicity, but it can be quite time intensive with longer lists or arrays.\n"
   ]
  },
  {
   "cell_type": "markdown",
   "metadata": {},
   "source": [
    "## Performance measurement of sorting algorithms\n",
    "<a name=\"section3\"></a>\n",
    "Now when we have defined three algorithms for our problem it is time to consider the performance of our code. To measure performance we can use the so-called \"time\" package. To measure performance, we will see how much time that passes between the start and finish of the algorithm. To do this there are two useful functions in the package: `time.time()` and `time.clock()`.\n",
    "\n",
    "What `time.time()` does is measuring wallclock time between two points in the code, e.g. how many actual seconds that passes from start to finish. This method though is not entirely optimal. The reason for this is that the computer might be working on other tasks during the same time one is trying to measure the performance of the code. This means that memory in the CPU might be occupied and therefore slowing down the process. To solve this problem one can use `time.clock()` instead. \n",
    "\n",
    "`time.clock()` has not been updated for a while though and is not the best way of determining dedicated CPU time. The new, updated versions of `time.clock()` are `time.perf_counter()` and `time.process_time()`. \n",
    "\n",
    "In our examples below, we will use the updated CPU timer with fractional seconds called `time.process_time()`.\n"
   ]
  },
  {
   "cell_type": "code",
   "execution_count": 5,
   "metadata": {},
   "outputs": [
    {
     "name": "stdout",
     "output_type": "stream",
     "text": [
      "isort sorted the tutorial list in 6.5856140000000005 seconds\n",
      "shellsort sorted the tutorial list in 0.03062100000000001 seconds\n",
      "bubblesort sorted the tutorial list in 6.265158 seconds\n"
     ]
    }
   ],
   "source": [
    "import time\n",
    "\n",
    "#measuring isort performance\n",
    "start_isort = time.process_time()\n",
    "isort(tutorial_list)\n",
    "end_isort = time.process_time()\n",
    "\n",
    "#measuring shellsort performance\n",
    "start_shellsort = time.process_time()\n",
    "shell_sort(tutorial_list)\n",
    "end_shellsort = time.process_time()\n",
    "\n",
    "#measuring bubblesort performance\n",
    "start_bubblesort = time.process_time()\n",
    "bubblesort(tutorial_list)\n",
    "end_bubblesort = time.process_time()\n",
    "\n",
    "\n",
    "print('isort sorted the tutorial list in {} seconds'.format(end_isort-start_isort))\n",
    "print('shellsort sorted the tutorial list in {} seconds'.format(end_shellsort-start_shellsort))\n",
    "print('bubblesort sorted the tutorial list in {} seconds'.format(end_bubblesort-start_bubblesort))\n"
   ]
  },
  {
   "cell_type": "markdown",
   "metadata": {},
   "source": [
    "## Results\n",
    "<a name=\"section4\"></a>\n",
    "As we can see from the results above the shell short is more efficent than the other two less complex sorting algorithms. The question is though, will the shell short algorithm always be the better choice when one needs to sort a list? Well that depends... \n",
    "\n",
    "When considering a programming solution for a problem one thing to keep in mind is the pay-off between the time invested in optimizing the code and the actual time saved when one is later using the code. For example, let us assume that we have the knowledge to write the simpler bubble-sort algorithm, but lack the knowledge to write something more efficient. If there is a problem that consists of a shorter list that only needs to be sorted once, it might be wiser to just use the simpler algorithm, even though it is less efficient. Because the payoff for investing time in optimizing the code and learning more efficient ways to do a sorting algorithm might be very low. On the other hand, if we are facing a more complex problem, where our sorting algorithm will be run a considerable amount of times, it might be worth investing time in optimizing the code to save a lot of time later when the program is running. \n",
    "\n",
    "So, when deciding how to implement an algorithm solution to a problem one should always keep in mind the purpose of the implementation and then make a decision about the complexity of the code.\n",
    "<br>"
   ]
  },
  {
   "cell_type": "markdown",
   "metadata": {},
   "source": [
    "## Optimizing algorithms further with `@jit`\n",
    "<a name=\"section5\"></a>\n",
    "`numba` is a *Just-In-Time* compiler for Python which means that whenever you call a function in Python, all or part of your code will convert to machine code \"just-in-time\" for execution and run on your local machine code speed. \n",
    "\n",
    "With the help of Numba, you can speed up your calculations and algorithms. There are other compilers for Python such as `pypy` and `cython`, so why use Numba? The easiest answer is that with Numba, you don't have to change your code at all for basic speed-up. The only thing you have to do is add a Python functionality, a *decorator* (wrapper), around your functions. We have chosen to partly compile our sorting algorithms using the `@jit` decorator.\n",
    "\n",
    "Pyhton is a \"high-level\" language that is easy for humans to work with and understand but is far away from the language that computers use to understand. The most basic explanation of how it works is that your Python function is taken, optimized and converted into a language that is easier for the computer to read. If you want to read more about this, please visit this [website](https://towardsdatascience.com/speed-up-your-algorithms-part-2-numba-293e554c5cc1 \"towardsdatascience.com\") or google JIT. "
   ]
  },
  {
   "cell_type": "code",
   "execution_count": 6,
   "metadata": {},
   "outputs": [
    {
     "name": "stdout",
     "output_type": "stream",
     "text": [
      "isort sorted the JIT list in 0.29513899999999893 seconds\n",
      "shellsort sorted the JIT list in 0.24214500000000072 seconds\n",
      "bubblesort sorted the JIT list in 0.153906000000001 seconds\n"
     ]
    }
   ],
   "source": [
    "#When measuring performance of JIT, we will use the copied list called jit_list and JIT every algorithm\n",
    "\n",
    "import time\n",
    "from numba import jit\n",
    "\n",
    "\n",
    "#Algorithm 1, the insertion sort, now with JIT decorator\n",
    "\n",
    "insertion_list2 = jit_list\n",
    "\n",
    "@jit\n",
    "def isort(insertion_list2):\n",
    "    for i in range(1, len(insertion_list2)):\n",
    "        value = insertion_list2[i]\n",
    "        spot = i \n",
    "        while spot > 0 and insertion_list2[spot-1] > value:\n",
    "            insertion_list2[spot] = insertion_list2[spot-1]\n",
    "            spot = spot-1\n",
    "        insertion_list2[spot] = value\n",
    "        \n",
    "\n",
    "#Algorithm 2, the shell sort, now with JIT decorator\n",
    "\n",
    "shell_list2 = jit_list\n",
    "\n",
    "@jit\n",
    "def shell_sort(shell_list2):\n",
    "    gap = len(shell_list2) // 2 \n",
    "    while gap > 0:\n",
    "        for start_position in range(gap):\n",
    "            gap_insertion_sort(shell_list2, start_position, gap)\n",
    " \n",
    "        gap = gap // 2\n",
    "\n",
    "@jit \n",
    "def gap_insertion_sort(shell_list2, start_position, gap):\n",
    "    for i in range(start_position+gap, len(shell_list2), gap):\n",
    "        current_value = shell_list2[i]\n",
    "        position = i\n",
    " \n",
    "        while position >= gap and shell_list2[position-gap] > current_value:\n",
    "            shell_list2[position] = shell_list2[position - gap]\n",
    "            position = position-gap\n",
    " \n",
    "        shell_list2[position] = current_value\n",
    "\n",
    "\n",
    "#Algorithm 3, the buuble sort, now with JIT decorator\n",
    "\n",
    "bubble_list2 = jit_list\n",
    "\n",
    "@jit\n",
    "def bubblesort(bubble_list2):\n",
    "\n",
    "# Swap the elements to arrange in order\n",
    "    for i in range(len(bubble_list2)-1,0,-1):\n",
    "        for idx in range(i):\n",
    "            if bubble_list2[idx] > bubble_list2[idx+1]:\n",
    "                temp = bubble_list2[idx]\n",
    "                bubble_list2[idx] = bubble_list2[idx+1]\n",
    "                bubble_list2[idx+1] = temp\n",
    "\n",
    "\n",
    "\n",
    "\n",
    "#measuring isort performance with JIT\n",
    "start_isort2 = time.process_time()\n",
    "isort(jit_list)\n",
    "end_isort2 = time.process_time()\n",
    "\n",
    "#measuring shellsort performance with JIT\n",
    "start_shellsort2 = time.process_time()\n",
    "shell_sort(jit_list)\n",
    "end_shellsort2 = time.process_time()\n",
    "\n",
    "#measuring bubblesort performance with JIT\n",
    "start_bubblesort2 = time.process_time()\n",
    "bubblesort(jit_list)\n",
    "end_bubblesort2 = time.process_time()\n",
    "\n",
    "#remember that we made a copy of the tutorial list and called it \"jit list\" for this exercise\n",
    "print('isort sorted the JIT list in {} seconds'.format(end_isort2-start_isort2))\n",
    "print('shellsort sorted the JIT list in {} seconds'.format(end_shellsort2-start_shellsort2))\n",
    "print('bubblesort sorted the JIT list in {} seconds'.format(end_bubblesort2-start_bubblesort2))"
   ]
  },
  {
   "cell_type": "markdown",
   "metadata": {},
   "source": [
    "### Results from using `@jit`\n",
    "<a name=\"sub5.1\"></a>\n",
    "As we can see, two of the three algorithms have tremendous performance improvement. By using the `@jit` wrapper, the algortihms could be processed much quicker than before. An interesting observation is that our `shell_sort()` algorithm is slower than before. This may be because of our original \"gap sequence\" being slower with the `numba` package or that the shell sort as a function works slower with JIT. \n",
    "\n",
    "\n",
    "When using already defined functions, which is made by other users, there is a problem of not knowing excactly what the function does. As illustrated above with the use if JIT, the results from the shell short was not excactly what we were excpecting. There can be massive performance improvements but at the same time a problem can occur we did not excpect. So, when choosing wether to use `numba` compiler *JIT*, or maybe `sort()`, when solving a problem one should consider what the impact would be if the function does something else than expected. If the impact would be low and easily fixable, on can use the already defined functions. If the impact would be huge and very costly to fix, one should consider writing the code oneself. \n",
    "\n",
    "<br>"
   ]
  },
  {
   "cell_type": "markdown",
   "metadata": {},
   "source": [
    "## Stack overflow and how to avoid it\n",
    "<a name=\"section6\"></a>\n",
    "The last thing you should be aware of when writing algorithms is stack overflow. We will briefly discuss this problem and tell you how to avoid it. \n",
    "\n",
    "Local variables and parameters live on a thing called **stack**. The stack lives on the *top* of your adress space (memory cell for instance) and as it is being used, it is heading towards the *bottom* of your adress space (towards zero). The most common cause of a stack overflow is a bad recursive call. If your function does not contain the proper terminating condition (making your function to stop), the function will call itself forever. A stack overflow means that your function is demanding more space than it has dedicated. When this happens, you usually get an error message saying that the \"maximum recursion is met\", meaning that the process cannot access more space to find a solution. To solve this problem, go over your code and check whether you are using a proper terminating condition. "
   ]
  },
  {
   "cell_type": "code",
   "execution_count": 13,
   "metadata": {},
   "outputs": [
    {
     "ename": "RecursionError",
     "evalue": "maximum recursion depth exceeded",
     "output_type": "error",
     "traceback": [
      "\u001b[0;31m---------------------------------------------------------------------------\u001b[0m",
      "\u001b[0;31mRecursionError\u001b[0m                            Traceback (most recent call last)",
      "\u001b[0;32m<ipython-input-13-5f291a7d4d87>\u001b[0m in \u001b[0;36m<module>\u001b[0;34m()\u001b[0m\n\u001b[1;32m      6\u001b[0m \u001b[0;34m\u001b[0m\u001b[0m\n\u001b[1;32m      7\u001b[0m \u001b[0;31m#call the function\u001b[0m\u001b[0;34m\u001b[0m\u001b[0;34m\u001b[0m\u001b[0m\n\u001b[0;32m----> 8\u001b[0;31m \u001b[0mso\u001b[0m\u001b[0;34m(\u001b[0m\u001b[0;34m)\u001b[0m\u001b[0;34m\u001b[0m\u001b[0m\n\u001b[0m\u001b[1;32m      9\u001b[0m \u001b[0;34m\u001b[0m\u001b[0m\n\u001b[1;32m     10\u001b[0m \u001b[0;31m#you should get an error of a maximum recursion\u001b[0m\u001b[0;34m\u001b[0m\u001b[0;34m\u001b[0m\u001b[0m\n",
      "\u001b[0;32m<ipython-input-13-5f291a7d4d87>\u001b[0m in \u001b[0;36mso\u001b[0;34m()\u001b[0m\n\u001b[1;32m      3\u001b[0m \u001b[0;31m#define a function that recurs upon itself\u001b[0m\u001b[0;34m\u001b[0m\u001b[0;34m\u001b[0m\u001b[0m\n\u001b[1;32m      4\u001b[0m \u001b[0;32mdef\u001b[0m \u001b[0mso\u001b[0m\u001b[0;34m(\u001b[0m\u001b[0;34m)\u001b[0m\u001b[0;34m:\u001b[0m\u001b[0;34m\u001b[0m\u001b[0m\n\u001b[0;32m----> 5\u001b[0;31m     \u001b[0;32mreturn\u001b[0m \u001b[0mso\u001b[0m\u001b[0;34m(\u001b[0m\u001b[0;34m)\u001b[0m\u001b[0;34m\u001b[0m\u001b[0m\n\u001b[0m\u001b[1;32m      6\u001b[0m \u001b[0;34m\u001b[0m\u001b[0m\n\u001b[1;32m      7\u001b[0m \u001b[0;31m#call the function\u001b[0m\u001b[0;34m\u001b[0m\u001b[0;34m\u001b[0m\u001b[0m\n",
      "... last 1 frames repeated, from the frame below ...\n",
      "\u001b[0;32m<ipython-input-13-5f291a7d4d87>\u001b[0m in \u001b[0;36mso\u001b[0;34m()\u001b[0m\n\u001b[1;32m      3\u001b[0m \u001b[0;31m#define a function that recurs upon itself\u001b[0m\u001b[0;34m\u001b[0m\u001b[0;34m\u001b[0m\u001b[0m\n\u001b[1;32m      4\u001b[0m \u001b[0;32mdef\u001b[0m \u001b[0mso\u001b[0m\u001b[0;34m(\u001b[0m\u001b[0;34m)\u001b[0m\u001b[0;34m:\u001b[0m\u001b[0;34m\u001b[0m\u001b[0m\n\u001b[0;32m----> 5\u001b[0;31m     \u001b[0;32mreturn\u001b[0m \u001b[0mso\u001b[0m\u001b[0;34m(\u001b[0m\u001b[0;34m)\u001b[0m\u001b[0;34m\u001b[0m\u001b[0m\n\u001b[0m\u001b[1;32m      6\u001b[0m \u001b[0;34m\u001b[0m\u001b[0m\n\u001b[1;32m      7\u001b[0m \u001b[0;31m#call the function\u001b[0m\u001b[0;34m\u001b[0m\u001b[0;34m\u001b[0m\u001b[0m\n",
      "\u001b[0;31mRecursionError\u001b[0m: maximum recursion depth exceeded"
     ]
    }
   ],
   "source": [
    "#Stack overflow example\n",
    "\n",
    "#define a function that recurs upon itself\n",
    "def so():\n",
    "    return so()\n",
    "    \n",
    "#call the function\n",
    "so()\n",
    "\n",
    "#you should get an error of a maximum recursion"
   ]
  },
  {
   "cell_type": "markdown",
   "metadata": {},
   "source": [
    "## Summary\n",
    "<a name=\"section7\"></a>\n",
    "In this **tutorial** we have introduced you to algorithms in general, implementing algorithms in a coding language and highlighted the issues of algorithm design. As we have said, there is a payoff between spending time trying to write the perfect, most efficient algorithm and writing an algorithm that saves you that time bus does the job. \n",
    "\n",
    "Furhtermore, we have found out that there are different ways of sorting a list of randomly generated numbers efficiently and that we can always improve our sorting functions with the `numba` package. We have also highlighted different ways of measuring the performance of algorithms using the `time` package and confirmed that the dedicated CPU timer is a good way of measuring performance. \n",
    "\n",
    "Lastly, a common problem when writing algorithms is *stack overflow*, often caused by a never-ending iteration or loop. To avoid this problem, make sure that your functions always have an ending that breaks the loop or iteration process. \n",
    "\n",
    "We hope that you have learned a lot about algorithm implementation and we thank you for your time. \n",
    "\n",
    "If you want to read more about algorithm implementation in Python, visit this [website](http://interactivepython.org/runestone/static/pythonds/index.html \"interactivepython.org\")\n"
   ]
  },
  {
   "cell_type": "code",
   "execution_count": null,
   "metadata": {},
   "outputs": [],
   "source": []
  }
 ],
 "metadata": {
  "kernelspec": {
   "display_name": "Python 3",
   "language": "python",
   "name": "python3"
  },
  "language_info": {
   "codemirror_mode": {
    "name": "ipython",
    "version": 3
   },
   "file_extension": ".py",
   "mimetype": "text/x-python",
   "name": "python",
   "nbconvert_exporter": "python",
   "pygments_lexer": "ipython3",
   "version": "3.6.5"
  }
 },
 "nbformat": 4,
 "nbformat_minor": 2
}
