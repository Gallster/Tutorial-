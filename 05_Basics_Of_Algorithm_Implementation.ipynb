{
 "cells": [
  {
   "cell_type": "markdown",
   "metadata": {},
   "source": [
    "# Intoduction, What you will learn in this tutorial\n",
    "\n",
    "In this tutorial, you’re going to learn about the basics of algorithm implementation. The tutorial starts by explaining what an algorithm actually is. You will be told a story of a guy called Bob who wants to collect some nuts; the story will help you to develop an understanding of the underlying concepts of algorithms, such as how to design an algorithm, how to solve a general problem using the divide-and-conquer method. To judge the performance of your own or any other algorithm, you will learn about runtime and memory-usage as an indicator of quality for a certain algorithm. You will also learn about a function called “jit” that can optimize an algorithm very easily and there will also be a general discussion about the pros and cons of using Jit.  As an example of performance measurement, you will see the implementation of different solutions to a sorting-problem. Furthermore, with the use of another example, you will be taught about the problem of the so-called concept of stack-overflow and his importance in programming. \n",
    "\n",
    "# Table of contents\n",
    "\n",
    "1\n",
    "2\n",
    "3\n",
    "\n",
    "# What is an Algorithm?\n",
    "\n",
    "At its most basic level, an algorithm is a step-by-step procedure for solving a problem or specifying tasks to be done. Although you can theoretically use an algorithm for almost any application, it is commonly used in computer science and mathematics. \n",
    "\n",
    "The following picture is a basic example of an algorithm: \n",
    "\n",
    "<img src=\"https://upload.wikimedia.org/wikipedia/commons/thumb/9/91/LampFlowchart.svg/1200px-LampFlowchart.svg.png\" width=\"300\" height=\"450\" >\n",
    "\n",
    "### Practical example\n",
    "\n",
    "Let us introduce you to Bob. Bob has a walnut tree in his garden and he loves walnuts. He knows that there are walnuts from his tree in his garden. While some of them are already rotten, the others are ready for pickung and consuming. Bob knows, that over the next week, more and more walnuts will fall from the tree onto the ground. Bob now wants to solve the problem of collecting the walnuts. Since he's a computer scientist, he tackels the problem as a proper computer scientist would:\n",
    "\n",
    "1. Bob tries to understand the problem:\n",
    "Bob wants to collect the walnuts. Some are still in the tree getting ripe, others are lying on the ground in the moisty grass, fresh and rotten ones. In addition, the nuts are hard to spot in the grass and to distinguish between fresh and rotten, Bob has to pick them up to get a closer look. Bob also has a bucket for collecting where he will put the fresh nuts.\n",
    "2. Bob thinks about different ways to solve the problem of collecting nuts:\n",
    "Theoraticly \n",
    "\n",
    "### Algorithms and programming\n",
    "\n",
    "Algorithms are the cornerstone of the programming world, as every program revolves around the use of algorithms. Furthermore, algorithms are created independently from underlying languages and can therefore be implemented in every programming language. The following is a basic outline of how to create an algorithm for computer science:\n",
    "1. Understand the problem\n",
    "2. Think of different ways to solve it, and pick what you believe to be the most efficient way\n",
    "3. Map it out, using psuedo-code, a flowchart, or something similar\n",
    "4. Implement the solution, i.e. translate your method into the actual coding language\n",
    "5. Test and debug your code\n",
    "\n",
    "### Algorithm Implementation\n",
    "\n",
    "Today, we want to focus on the fourth step of algorithm creation: implementation. In this step, we want to translate our method into our coding method of choice, and ensure that it is written in an elegant and an optimal way. In other words, we want to make sure that the program is compact and fast. Oftentimes, these goals are aligned, but sometimes they are not. These ideas are talked about in terms of time complexity and space complexity. These are defined as follows:\n",
    "- Time complexity: the amount of time it takes to run an algorithm as a function of the amount of input\n",
    "- Space complexity: the amount of space/memory taken by an algorithm as a function of the amount of input\n",
    "\n",
    "In this tutorial, we will primarily discuss time. Although time complexity is extremely difficult to measure, in Python we can get a rough idea of the time demands of an algorithm by using the time library. The time library can measure many different types of time, but we need to focus on wall-clock time and CPU time, i.e. natural and processing time. Wall-clock time is the time we, as humans, are familiar with. In other words, this is the time a stopwatch would read if you started it at the beginning of the process and ended it exactly as it finished. CPU time is the time the computer dedicates to the process. As computers are running multiple processes at a time, not 100% of the wall-clock time will be dedicated to the specific process you are measuring. CPU time avoids this issue, and allows a more comparable measure.\n",
    "\n",
    "### Introduction to the problem \n",
    "\n",
    "In the endeavor of visualizing the implementation of algorithms, we will define a problem and then try to solve it with two different algorithm implementation. The code you see below is creating a set amount of different integers and inserting them into a list. The problem at hand now will be to sort the list so that our result will be a list ordered from the least integer to the greatest. There is actually an already built-in function in Python to sort a list but in order to visualize the implementation of algorithms, we will not use sort().\n"
   ]
  },
  {
   "cell_type": "markdown",
   "metadata": {},
   "source": []
  },
  {
   "cell_type": "code",
   "execution_count": null,
   "metadata": {},
   "outputs": [],
   "source": [
    "#Presenting a problem "
   ]
  },
  {
   "cell_type": "code",
   "execution_count": null,
   "metadata": {},
   "outputs": [],
   "source": [
    "# Compare speed and talk about \"jit\""
   ]
  },
  {
   "cell_type": "code",
   "execution_count": null,
   "metadata": {},
   "outputs": [],
   "source": [
    "#Talk about the payoff between spending time optimizing the code and the actual benefits of more efficient code\n",
    "# Make another parallel to the nut problem. "
   ]
  },
  {
   "cell_type": "code",
   "execution_count": null,
   "metadata": {
    "scrolled": true
   },
   "outputs": [],
   "source": [
    "#Talk about stackoverflow with a new problem to solve that is more suited to be a subject of stackoverlow."
   ]
  },
  {
   "cell_type": "code",
   "execution_count": 1,
   "metadata": {},
   "outputs": [],
   "source": [
    "#Here we create an list that will then be sorted by our algorithms\n",
    "\n",
    "import random as rdm   #Here we import a library which has a function that will be used when generating the list\n",
    "\n",
    "\n",
    "N = 10000             #How many numbers that should be sorted\n",
    "lowerBound = 1        #Lower bound for the generated numbers\n",
    "upperBound = N*5      #Upper bound for the genereated numbers\n",
    "\n",
    "tutorial_list = []\n",
    "#jit_list = []\n",
    "tutorial_list.extend(rdm.sample(range(int(lowerBound), int(upperBound)), int(N)))\n",
    "#jit_list.extend(rdm.sample(range(int(lowerBound), int(upperBound)), int(N)))\n",
    "\n",
    "jit_list = tutorial_list #We will come back to this list later...\n",
    "\n"
   ]
  },
  {
   "cell_type": "markdown",
   "metadata": {},
   "source": [
    "<div class=\"alert alert-block alert-info\"> The code above generates the list which we will be used when executing our sorting algorithms. The list consists of N randomly selected unique integers from the range 1 to N*5. The reason why the upperbound is N*5 is because of the function rdm.sample(), which will draw an integer from the range withut reinserting it. So, to not run out of numbers to pick, the range has to be grater than N. \n",
    "\n",
    "When the random selection has been made the list will be saved to tutorial_list which we will use in our implementation of algorithms. "
   ]
  },
  {
   "cell_type": "code",
   "execution_count": 2,
   "metadata": {},
   "outputs": [],
   "source": [
    "#Algorithm 1: A so called insertion sort\n",
    "\n",
    "insertion_list = tutorial_list\n",
    "\n",
    "def isort(insertion_list):\n",
    "    for i in range(1, len(insertion_list)):\n",
    "        value = insertion_list[i]\n",
    "        spot = i \n",
    "        while spot > 0 and insertion_list[spot-1] > value:\n",
    "            insertion_list[spot] = insertion_list[spot-1]\n",
    "            spot = spot-1\n",
    "        insertion_list[spot] = value"
   ]
  },
  {
   "cell_type": "markdown",
   "metadata": {},
   "source": [
    "<div class=\"alert alert-block alert-info\">\n",
    "\n",
    "Code from this [source](http://interactivepython.org/courselib/static/pythonds/SortSearch/TheInsertionSort.html?fbclid=IwAR1dTXxY6dgWzmRoo9ZCIq2iRrghxf_JeTrqWt0BcdUTa-my_vsR7iFcRtQ \"interactivepython.org\")\n",
    "\n",
    "The above function is an implementation of a so-called insertion sort algorithm. What the basically does is dividing the list into two sublists. One that is sorted and one that is not. First, it assumes that the first element in the list is sorted, then it will compare the first position to the second position. Given that the integer in the second position is lesser the algorithm will switch position of the two integer so that the lesser integer ends up in the first spot. The “sorted list” now consists of two integers. Because of the while loop, the procedure will be repeated for all the numbers until every number is a part of the sorted list."
   ]
  },
  {
   "cell_type": "code",
   "execution_count": 3,
   "metadata": {},
   "outputs": [],
   "source": [
    "#Algorithm 2, a so called shell sort\n",
    "\n",
    "shell_list = tutorial_list\n",
    "\n",
    "def shell_sort(shell_list):\n",
    "    gap = len(shell_list) // 2 \n",
    "    while gap > 0:\n",
    "        for start_position in range(gap):\n",
    "            gap_insertion_sort(shell_list, start_position, gap)\n",
    " \n",
    "        gap = gap // 2\n",
    " \n",
    " \n",
    "def gap_insertion_sort(shell_list, start_position, gap):\n",
    "    for i in range(start_position+gap, len(shell_list), gap):\n",
    "        current_value = shell_list[i]\n",
    "        position = i\n",
    " \n",
    "        while position >= gap and shell_list[position-gap] > current_value:\n",
    "            shell_list[position] = shell_list[position - gap]\n",
    "            position = position-gap\n",
    " \n",
    "        shell_list[position] = current_value"
   ]
  },
  {
   "cell_type": "markdown",
   "metadata": {},
   "source": [
    "<div class=\"alert alert-block alert-info\">\n",
    "\n",
    "Code from this [source](http://www.zaxrosenberg.com/must-know-sorting-algorithms-in-python/?fbclid=IwAR3kUYFi70WLoPgBvUBxxy0kKhHrUPGxTZNUgO24uX__0c-dOEyQWDwWkv4 \"zaxrosenberg.com\")\n",
    " "
   ]
  },
  {
   "cell_type": "code",
   "execution_count": 4,
   "metadata": {},
   "outputs": [],
   "source": [
    "#Algorithm 3, a so called bubble sort\n",
    "\n",
    "bubble_list = tutorial_list\n",
    "\n",
    "def bubblesort(bubble_list):\n",
    "\n",
    "# Swap the elements to arrange in order\n",
    "    for i in range(len(bubble_list)-1,0,-1):\n",
    "        for idx in range(i):\n",
    "            if bubble_list[idx] > bubble_list[idx+1]:\n",
    "                temp = bubble_list[idx]\n",
    "                bubble_list[idx] = bubble_list[idx+1]\n",
    "                bubble_list[idx+1] = temp"
   ]
  },
  {
   "cell_type": "markdown",
   "metadata": {},
   "source": [
    "<div class=\"alert alert-block alert-info\">\n",
    "\n",
    "Code from this ...\n",
    "\n",
    "The function above is an implementation of a style of sorting algorithm called a bubble algorithm. In essence, this is the simplest sorting algorithm. The way that it works is by repeatedly running through a list or array and swapping the elements that are next to each other if they are in the incorrect order. Take, for example, this list: [1, 3, 2, 9, 6]. First, the function will compare the first two elements: 1 and 3. It sees that they are in order, and thus will not do anything. Next, it will compare 3 and 2, and seeing that they are not in order, will swap their positions, changing the list to [1, 2, 3, 9, 6]. The algorithm will continue this pattern for the rest of the list and then restart from the beginning to ensure that everything is in order, ending with the sorted list of [1, 2, 3, 6, 9]. The bubble sort is a popular implementation because of its simplicity, but it can be quite time intensive with longer lists or arrays.\n"
   ]
  },
  {
   "cell_type": "markdown",
   "metadata": {},
   "source": [
    "### Performance measurement of sorting algorithms\n",
    "Here we discuss the various ways of measuring performance (time.time vs time.clock)\n"
   ]
  },
  {
   "cell_type": "code",
   "execution_count": 5,
   "metadata": {},
   "outputs": [
    {
     "name": "stdout",
     "output_type": "stream",
     "text": [
      "isort sorted the tutorial list in 6.221014022827148 seconds\n",
      "shellsort sorted the tutorial list in 0.03069901466369629 seconds\n",
      "bubblesort sorted the tutorial list in 6.296033143997192 seconds\n"
     ]
    }
   ],
   "source": [
    "import time\n",
    "\n",
    "#measuring isort performance\n",
    "start_isort = time.time()\n",
    "isort(tutorial_list)\n",
    "end_isort = time.time()\n",
    "\n",
    "#measuring shellsort performance\n",
    "start_shellsort = time.time()\n",
    "shell_sort(tutorial_list)\n",
    "end_shellsort = time.time()\n",
    "\n",
    "#measuring bubblesort performance\n",
    "start_bubblesort = time.time()\n",
    "bubblesort(tutorial_list)\n",
    "end_bubblesort = time.time()\n",
    "\n",
    "\n",
    "print('isort sorted the tutorial list in {} seconds'.format(end_isort-start_isort))\n",
    "print('shellsort sorted the tutorial list in {} seconds'.format(end_shellsort-start_shellsort))\n",
    "print('bubblesort sorted the tutorial list in {} seconds'.format(end_bubblesort-start_bubblesort))\n"
   ]
  },
  {
   "cell_type": "markdown",
   "metadata": {},
   "source": [
    "As we can see from the results above the shell short is more efficent than the other two less complex sorting algorithms. The question is though, will the shell short algorithm always be the better choice when one needs to sort a list? Well that depends... \n",
    "\n",
    "When considering a programming solution for a problem one thing to keep in mind is the pay-off between the time invested in optimizing the code and the actual time saved when one is later using the code. For example, let us assume that we have the knowledge to write the simpler bubble-sort algorithm, but lack the knowledge to write something more efficient. If there is a problem that consists of a shorter list that only needs to be sorted once, it might be wiser to just use the simpler algorithm, even though it is less efficient. Because the payoff for investing time in optimizing the code and learning more efficient ways to do a sorting algorithm might be very low. On the other hand, if we are facing a more complex problem, where our sorting algorithm will be run a considerable amount of times, it might be worth investing time in optimizing the code to save a lot of time later when the program is running. \n",
    "\n",
    "So, when deciding how to implement an algorithm solution to a problem one should always keep in mind the purpose of the implementation and then make a decision about the complexity of the code.\n",
    "\n",
    "Now lets get into JIT (Just In Time)"
   ]
  },
  {
   "cell_type": "code",
   "execution_count": null,
   "metadata": {},
   "outputs": [],
   "source": []
  },
  {
   "cell_type": "code",
   "execution_count": 6,
   "metadata": {},
   "outputs": [
    {
     "name": "stdout",
     "output_type": "stream",
     "text": [
      "isort sorted the JIT list in 0.2151322364807129 seconds\n",
      "shellsort sorted the JIT list in 0.27489495277404785 seconds\n",
      "bubblesort sorted the JIT list in 0.16623806953430176 seconds\n"
     ]
    }
   ],
   "source": [
    "#When measuring performance of JIT, we will use the copied list called jit_list and JIT every algorithm\n",
    "\n",
    "import time\n",
    "from numba import jit\n",
    "\n",
    "\n",
    "#Algorithm 1, the insertion sort, now with JIT decorator\n",
    "\n",
    "insertion_list2 = jit_list\n",
    "\n",
    "@jit\n",
    "def isort(insertion_list2):\n",
    "    for i in range(1, len(insertion_list2)):\n",
    "        value = insertion_list2[i]\n",
    "        spot = i \n",
    "        while spot > 0 and insertion_list2[spot-1] > value:\n",
    "            insertion_list2[spot] = insertion_list2[spot-1]\n",
    "            spot = spot-1\n",
    "        insertion_list2[spot] = value\n",
    "        \n",
    "\n",
    "#Algorithm 2, the shell sort, now with JIT decorator\n",
    "\n",
    "shell_list2 = jit_list\n",
    "\n",
    "@jit\n",
    "def shell_sort(shell_list2):\n",
    "    gap = len(shell_list2) // 2 \n",
    "    while gap > 0:\n",
    "        for start_position in range(gap):\n",
    "            gap_insertion_sort(shell_list2, start_position, gap)\n",
    " \n",
    "        gap = gap // 2\n",
    "\n",
    "@jit \n",
    "def gap_insertion_sort(shell_list2, start_position, gap):\n",
    "    for i in range(start_position+gap, len(shell_list2), gap):\n",
    "        current_value = shell_list2[i]\n",
    "        position = i\n",
    " \n",
    "        while position >= gap and shell_list2[position-gap] > current_value:\n",
    "            shell_list2[position] = shell_list2[position - gap]\n",
    "            position = position-gap\n",
    " \n",
    "        shell_list2[position] = current_value\n",
    "\n",
    "\n",
    "#Algorithm 3, the buuble sort, now with JIT decorator\n",
    "\n",
    "bubble_list2 = jit_list\n",
    "\n",
    "@jit\n",
    "def bubblesort(bubble_list2):\n",
    "\n",
    "# Swap the elements to arrange in order\n",
    "    for i in range(len(bubble_list2)-1,0,-1):\n",
    "        for idx in range(i):\n",
    "            if bubble_list2[idx] > bubble_list2[idx+1]:\n",
    "                temp = bubble_list2[idx]\n",
    "                bubble_list2[idx] = bubble_list2[idx+1]\n",
    "                bubble_list2[idx+1] = temp\n",
    "\n",
    "\n",
    "\n",
    "\n",
    "#measuring isort performance with JIT\n",
    "start_isort2 = time.time()\n",
    "isort(jit_list)\n",
    "end_isort2 = time.time()\n",
    "\n",
    "#measuring shellsort performance with JIT\n",
    "start_shellsort2 = time.time()\n",
    "shell_sort(jit_list)\n",
    "end_shellsort2 = time.time()\n",
    "\n",
    "#measuring bubblesort performance with JIT\n",
    "start_bubblesort2 = time.time()\n",
    "bubblesort(jit_list)\n",
    "end_bubblesort2 = time.time()\n",
    "\n",
    "#remember that we made a copy of the tutorial list and called it \"jit list\" for this exercise\n",
    "print('isort sorted the JIT list in {} seconds'.format(end_isort2-start_isort2))\n",
    "print('shellsort sorted the JIT list in {} seconds'.format(end_shellsort2-start_shellsort2))\n",
    "print('bubblesort sorted the JIT list in {} seconds'.format(end_bubblesort2-start_bubblesort2))"
   ]
  },
  {
   "cell_type": "markdown",
   "metadata": {},
   "source": [
    "### JIT ere we discuss the results from using jit. And also, there will be a discussion about pros and cons between writing your own code and using already finished functions (the discussion can be about both sort() and jit()) \n"
   ]
  },
  {
   "cell_type": "code",
   "execution_count": null,
   "metadata": {},
   "outputs": [],
   "source": []
  },
  {
   "cell_type": "markdown",
   "metadata": {},
   "source": [
    "### Summary\n",
    "\n",
    "In this tutorial we have introduced you to algorithms in general, implementing algorithms in a coding language and highlighted the issues of algorithm design. As we have said, there is a payoff between spending time trying to write the perfect, most efficient algorithm and writing an algorithm that saves you that time bus does the job. \n",
    "\n",
    "….\n",
    "\n",
    "If you want to read more about algorithm applications in Python, visit this [website](http://interactivepython.org/runestone/static/pythonds/index.html \"interactivepython.org\")\n"
   ]
  },
  {
   "cell_type": "code",
   "execution_count": null,
   "metadata": {},
   "outputs": [],
   "source": []
  },
  {
   "cell_type": "code",
   "execution_count": null,
   "metadata": {},
   "outputs": [],
   "source": []
  },
  {
   "cell_type": "code",
   "execution_count": null,
   "metadata": {},
   "outputs": [],
   "source": []
  },
  {
   "cell_type": "markdown",
   "metadata": {},
   "source": [
    "<div class=\"alert alert-block alert-info\">\n",
    "# Summary\n",
    "\n",
    "<li> Do not trust Python if you to not exactely know, what the code is doing. It might do something else, like filling an empty vector with weird numbers.\n",
    "<li> Measuring performance can be implemented by checking the time a code uses to run. For example with the commands time.time(), time.perf_counter or time.process_time. Better compare CPU time than wallclock time by checking the performance of a code.\n",
    "<li> Even though a code is faster with Python's functions, a programmer should trade of his / her own effort by the codes ones.\n",
    "<li> Codes are using binary numbers which might cause an overflow for hugh calculations. \n",
    "<li> In class, there were two of Python's built-in function: \"numpy\" and \"time\". Some commands with there are explained in chapter 3. \n",
    "<li> Homework for next week contains plotting and creating fake $AR(1)$ data as well as finding the parameter $\\alpha$. \n",
    "</div>"
   ]
  },
  {
   "cell_type": "markdown",
   "metadata": {},
   "source": [
    "# Compute Polynomial\n",
    "This exercise should show if Python is faster using certain codes instead of others. Therefore, a polynomial  using a \"for loop\" and one using \"matrix algebra\" should prove this. <br> <br>\n",
    "The exercise: <br>\n",
    "Write an algorithm that given a set of coefficients $\\{a_{i}\\}_{i=0}^{n}$ evaluates the following polynomial at any point $x$:<br>\n",
    "<center> $p(x)=a_{0}x^{0}+a_{1}x^{1}+\\cdots+a_{n}x^{n}$ </center>\n",
    "Equivalent to:\n",
    "<center>\n",
    "$p(x)=\n",
    "\\begin{pmatrix}\n",
    "a_{0} & a_{1} & a_{2} & \\cdots & a_{n}\n",
    "\\end{pmatrix} \\times \n",
    "\\begin{pmatrix}\n",
    "x^{0}\\\\\n",
    "x^{1}\\\\\n",
    "x^{2}\\\\\n",
    "\\cdots\\\\\n",
    "x^{n}\n",
    "\\end{pmatrix}$\n",
    "</center>\n",
    "<br> <br>\n",
    "In the first step, there is a short review of the code, before the focus goes on measuring performance and the discussion of the results. In an excursion, binary numbers are explained. "
   ]
  },
  {
   "cell_type": "code",
   "execution_count": null,
   "metadata": {},
   "outputs": [],
   "source": [
    "# Loop implementation \n",
    "def p_loop(x,coef):\n",
    "    total = 0 # Keep track of the sum\n",
    "    for i, a in enumerate(coef): # Generates a sequence for i and a starting with 0 and names it coef\n",
    "        total = total + (a*(x**i)) # Generates the result of the polynomial\n",
    "    return total\n",
    "\n",
    "# Matrix algebra implementation\n",
    "import numpy as np # Numpy allows using vectors and matrix algebra\n",
    "    # Note: Python is able to distinguish between capital and small letters, so X ≠ x\n",
    "def p_ma(x, coef): \n",
    "    X = np.empty(len(coef)) # Creates a vector with the same lengh as coef\n",
    "    X[0] = 1 # Defines the first element of the vector as 1\n",
    "    X[1:] = x # Defines every other element of the vector as x\n",
    "    y = np.cumprod(X) # Result will be the cumulative product of the vector\n",
    "    return coef @ y #do the matrix multiplication"
   ]
  },
  {
   "cell_type": "markdown",
   "metadata": {},
   "source": [
    "<div class=\"alert alert-block alert-info\">\n",
    "<b>Empty vectors</b> in human language are filled with zeros. In Python, np.empty gives a vector with weird numbers. If not exactely defined, humans should not trust the output of the code. Better define the vector as it has to be or use np.zeros for a vector filled with zeros.\n",
    "</div>"
   ]
  },
  {
   "cell_type": "markdown",
   "metadata": {},
   "source": [
    "## Measure performance\n",
    "Measuring performance can be implemented by checking the used time. Below, there is the code with additional information about the thoughts behind. Relevant here is, that time performance is measured in the same code for both kinds of implementation (for loop and matrix algebra). Just like this a difference due to background computer task can be eliminated. By deleting all print commands, the code does not use time and power for that. In this case, time.time is used, which registers real time at the starting point and after finishing this task. Other possible packages will be discussed in section [3. Programming codes of this lecture](#3).\n",
    "\n",
    "<div class=\"alert alert-block alert-info\">\n",
    "time.time registers the wallclock time (also called real time or natural time). <br><br>\n",
    "<b>[Wallclock time](https://wiki.scinet.utoronto.ca/wiki/index.php/Wallclock_time)</b>: This kind of time is the one people are used to. It is the actual time a computer shows the user. Depending on the computer system, this only is exact for whole seconds, but not for fractions of it. \n",
    "<br><br>\n",
    "<b>[CPU time</b>](https://www.techopedia.com/definition/2858/cpu-time): This time measures the time a computer spends on running a certain task. If a computer uses CPU for another programm or process, this does not count in the time measureed in Python. \n",
    "</div>"
   ]
  },
  {
   "cell_type": "code",
   "execution_count": null,
   "metadata": {},
   "outputs": [],
   "source": [
    "import time # Package to measure time\n",
    "n_coef = 10000000 # define a certain number of coefficients\n",
    "sample_coef = np.random.uniform(1,50,n_coef) # Random uniform distributed coefficients between 1 and 50\n",
    "eval_x = 1 # X at which polynomial is evaluated\n",
    "\n",
    "# Measure time performance of our loop implementation\n",
    "start = time.time() # registers the time of start\n",
    "loop_result = p_loop(eval_x,sample_coef) # calculates the result of the loop version\n",
    "end = time.time() # registers the time of end\n",
    "print(\"Our loop implementation returns as output {} in {} seconds\".format(loop_result,(end - start)))\n",
    "\n",
    "# Measure time performance of our loop implementation\n",
    "start = time.time()# registers the time of start\n",
    "ma_result = p_ma(eval_x,sample_coef) # calculates the result of the matrix version\n",
    "end = time.time() # registers the time of end\n",
    "print(\"Our matrix algebra implementation returns as output {} in {} seconds\".format(ma_result,(end - start)))"
   ]
  },
  {
   "cell_type": "markdown",
   "metadata": {},
   "source": [
    "## Results\n",
    "The result of the different types of code are remarkable. The loop version takes much longer than the matrix version. More general, Python's built-in function are that much optimated, that they usually will be faster. Time.time is not that precise. It can just be sure that the second is correct. This does not matter in this context, because the diffeence of the loop implementation and the matrix algebra are hugh. For not that clear results, other possibilities will be discussed in chapter 3.<br>\n",
    "<div class=\"alert alert-block alert-info\">\n",
    "Even though there are faster and slower ways of programs, the programmer has to trade-off his / her own time on programming against the running time of the code: better make a correct code knowing exactly what the computer is doing than using a function giving wrong results. An example for wrong results was the empty vector that was filled up with random numbers."
   ]
  },
  {
   "cell_type": "markdown",
   "metadata": {},
   "source": [
    "## Digression: Binary numbers\n",
    "[<b>Binary numbers</b>](https://math.tutorvista.com/number-system/binary-numbers.html) insist only of the digits 0 and 1.<br>\n",
    "Calculating a binary number into a natural number starts on the right handside and moves to the left. Every 1 is replaced with a 2. Then, starting on the right, the number is powered by something. This begins with a 0 and goes up to n, while n is the position the first 1 (from the left) is in binary code. <br> <br>\n",
    "Examples: <br>\n",
    "$0=0 0 0 = 0^{2}+0^{1}+0^{0}=0+0+0=0$ <br>\n",
    "$1=0 0 1 = 0^{2}+0^{1}+2^{0}=0+0+1=1$ <br>\n",
    "$2=0 1 0 = 0^{2}+2^{1}+0^{0}=0+2+0=2$ <br>\n",
    "$3=0 1 1 = 0^{2}+2^{1}+2^{0}=0+2+1=3$ <br>\n",
    "$4=1 0 0 = 2^{2}+0^{1}+0^{0}=4+0+0=4$ <br>\n",
    "$5=1 0 1 = 2^{2}+0^{1}+2^{0}=4+0+1=5$ <br>\n",
    "$6=1 1 0 = 2^{2}+2^{1}+0^{0}=4+2+0=6$ <br>\n",
    "$7=1 1 1 = 2^{2}+2^{1}+2^{0}=4+2+1=7$\n",
    "<div class=\"alert alert-block alert-info\">\n",
    "[<b>Overflow</b>](https://www.allaboutcircuits.com/textbook/digital/chpt-2/binary-overflow/) can be caused by mathematic operation, that generates hugh binary numbers. Then, the computers capacity (bits) are not sufficient for this large binary number. If this happens in Python, close the actual used jupyter notebook file. Then, activate the box of the file in the project overview and click on shutdown. After, the file should be able to be reopened."
   ]
  },
  {
   "cell_type": "markdown",
   "metadata": {},
   "source": [
    "# Functions of this lecture (numpy & time)\n",
    "This chapter focus on giving a greater understanding of the functions \"numpy\" and \"time\". Numpy allows using vectors and matrix algebra. Time implements functions of measuring actual time. "
   ]
  },
  {
   "cell_type": "code",
   "execution_count": null,
   "metadata": {},
   "outputs": [],
   "source": [
    "# NUMPY\n",
    "\n",
    "import numpy as np # allows using numpy in this code and renames it as np\n",
    "\n",
    "v = np.empty(3) # create an empty vector for later usage # pay attention: this vector is filled with very small numbers but not with zeros or ones\n",
    "print('This is an empty vector {}'.format(v))\n",
    "\n",
    "v[1:] = 3 # fill an empty vector # expect the first number, every other is defined as 3\n",
    "print('This is an empty vector {}'.format(v))\n",
    "\n",
    "z = np.zeros(3) # create a zero vector\n",
    "print('This is a zero vector {}'.format(z))\n",
    "\n",
    "s = np.array([1, 3, 2]) # create a specific vector\n",
    "print('This is a specific vector {}'.format(s))\n",
    "\n",
    "i = np.identity(3) # create an identity matrix\n",
    "print('This is an identity matrix {}'.format(i))\n",
    "\n",
    "# Python is able to calculate with vector and matrix\n",
    "# there are two ways of using numpy. The first one is with vector.command()\n",
    "s.sort() # sorts all elements of the vector\n",
    "print('This is sorted vector {}'.format(s))\n",
    "\n",
    "ss = s.sum() # sumarize all elements of the vector\n",
    "print('This is sum of the vectors elements {}'.format(ss))\n",
    "\n",
    "ma = s.max() # identify the maximal number in the vector\n",
    "mi = s.min() # identify the minimal number in the vector\n",
    "print('{} is the largest number and {} the smallest one of the vector'.format(ma, mi))\n",
    "\n",
    "cs = s.cumsum() # sumarize all the elements before and creates a new vector (e.g. [1,2,3]=[1,1+2,(1+2)+3]=[1,3,6])\n",
    "print('This is the result of cumsum: {}'.format(cs))\n",
    "\n",
    "cp = s.cumprod() # creates the product of the elements before (e.g. [1,2,3]=[1,1*2,(1*2)*3]=[1,3,6])\n",
    "print('This is the result of cumprod: {}'.format(cs))\n",
    "\n",
    "# another way to write this: instead of the vector.command, you can write np.command(vector). See example below:\n",
    "ss2 = np.sum(s)\n",
    "print('This is sum of the vectors elements created with the alternative code {}'.format(ss2))"
   ]
  },
  {
   "cell_type": "code",
   "execution_count": null,
   "metadata": {},
   "outputs": [],
   "source": [
    "# TIME\n",
    "\n",
    "import time\n",
    "help(time)\n",
    "\n",
    "# There are five main functions for measuring performance\n",
    "time.time() # measures wallclock time and is not able to return fractional seconds\n",
    "time.clock() # measures CPU time but has not been updated.\n",
    "# new versions of time.clock are time.perf_counter and time.process_counter\n",
    "time.monotonic() # measures wallclock time more precisly than time.time\n",
    "time.perf_counter() # measures CPU time in fractional seconds\n",
    "time.process_counter() # measures CPU time in fractional seconds"
   ]
  },
  {
   "cell_type": "markdown",
   "metadata": {},
   "source": [
    "<div class=\"alert alert-block alert-info\">\n",
    "Measuring time performance is possible with several functions. Time.time is not preferable, because firstly, it measures wallclock time that can be manipulated and secondly, it is not able to measure fractional seconds.<br>\n",
    "Whether [time.perf_counter or time.process_time](https://stackoverflow.com/questions/25785243/understanding-time-perf-counter-and-time-process-time) is more favourable depends on the exact code. Both use CPU time and measure fractional seconds. There is no clear answer, what should be used in which situation. For comparing performance, both should deliver the same results. \n",
    "</div>"
   ]
  },
  {
   "cell_type": "markdown",
   "metadata": {},
   "source": []
  },
  {
   "cell_type": "code",
   "execution_count": null,
   "metadata": {},
   "outputs": [],
   "source": []
  }
 ],
 "metadata": {
  "kernelspec": {
   "display_name": "Python 3",
   "language": "python",
   "name": "python3"
  },
  "language_info": {
   "codemirror_mode": {
    "name": "ipython",
    "version": 3
   },
   "file_extension": ".py",
   "mimetype": "text/x-python",
   "name": "python",
   "nbconvert_exporter": "python",
   "pygments_lexer": "ipython3",
   "version": "3.6.5"
  }
 },
 "nbformat": 4,
 "nbformat_minor": 2
}
