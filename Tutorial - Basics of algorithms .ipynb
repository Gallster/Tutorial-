{
 "cells": [
  {
   "cell_type": "markdown",
   "metadata": {},
   "source": [
    "# Basics of Algorithm Implementation\n",
    "\n",
    "## Table of Contents\n",
    "\n",
    "\n",
    "1.   List item\n",
    "2.   List item\n",
    "\n",
    "\n",
    "## What is an Algorithm?\n",
    "\n",
    "At its most basic level, an algorithm is a step-by-step procedure for solving a problem or specifying tasks to be done. Although you can theoretically use an algorithm for almost any application, it is commonly used in computer science and mathematics. \n",
    "\n",
    "The following picture (embedded in markdown language) is a basic example of an algorithm:"
   ]
  },
  {
   "cell_type": "code",
   "execution_count": 1,
   "metadata": {},
   "outputs": [],
   "source": [
    "#This will be our tutorial"
   ]
  },
  {
   "cell_type": "code",
   "execution_count": 2,
   "metadata": {},
   "outputs": [],
   "source": [
    "#Introduction to algorithms in general"
   ]
  },
  {
   "cell_type": "markdown",
   "metadata": {},
   "source": [
    "\n",
    "This is Bob. Bob has a walnut tree in his garden. Bob loves walnuts. He knows, that the his tree has already let fallen some nuts on the ground. While some of them are already rotten, the others are ready for pickung up and consuming. Bob knows, that over the next week, more and more walnuts will fall of the tree on the ground. Bob no wants to solve the problem of collecting the wallnuts. Since he's a computer scientist, he tackels the problem as a proper computerscientist would do it, for any problem:\n",
    "\n",
    "1. Bob tries to understand the problem: Bob wants to collect the walnuts. Some are still up on the tree getting ripe, the other are lying on the ground in de moisty gras: fresh an rotten ones. In addtion, the nuts are hard to spot in the gras and to distiguish between fresh and rotten, Bob has to pick them up to get a closer look. Bob also has a bucket for collecting. Of course Bob is only intersted in the non-rotten nuts.\n",
    "2. Bob thinks about different ways to solve the problem of collectin nuts: Theoraticly"
   ]
  },
  {
   "cell_type": "code",
   "execution_count": 3,
   "metadata": {},
   "outputs": [],
   "source": [
    "#Introduction to algorithms in computer science in particular"
   ]
  },
  {
   "cell_type": "code",
   "execution_count": 4,
   "metadata": {},
   "outputs": [],
   "source": [
    "#Presenting a problem"
   ]
  },
  {
   "cell_type": "code",
   "execution_count": 5,
   "metadata": {},
   "outputs": [],
   "source": [
    "# Make three algorithms"
   ]
  },
  {
   "cell_type": "code",
   "execution_count": 6,
   "metadata": {},
   "outputs": [],
   "source": [
    "# Compare speed and talk about \"jit\""
   ]
  },
  {
   "cell_type": "code",
   "execution_count": 7,
   "metadata": {},
   "outputs": [],
   "source": [
    "#Talk about the payoff between spending time optimizing the code and the actual benefits of more efficient code\n",
    "# Make another parallel to the nut problem."
   ]
  },
  {
   "cell_type": "code",
   "execution_count": 8,
   "metadata": {},
   "outputs": [],
   "source": [
    "#Talk about stackoverflow with a new problem to solve that is more suited to be a subject of stackoverlow."
   ]
  },
  {
   "cell_type": "code",
   "execution_count": 9,
   "metadata": {},
   "outputs": [
    {
     "name": "stdout",
     "output_type": "stream",
     "text": [
      "[26, 12, 42, 11, 23, 39, 6, 38, 8, 49]\n"
     ]
    }
   ],
   "source": [
    "#Here we create an list that will then be sorted by our algorithms\n",
    "import numpy as np \n",
    "import random as rdm\n",
    "\n",
    "\n",
    "N = 10   #How many numbers that should be sorted\n",
    "a = 1        #Lower bound for the generated numbers\n",
    "b = N*5      #Upper bound for the genereated numbers\n",
    "\n",
    "list1 = []\n",
    "list1.extend(rdm.sample(range(int(a), int(b)), int(N)))\n",
    "sortedlist = sorted(list1) #this will also sort everything hehe\n",
    "print(list1)\n",
    "\n",
    "#Now we are going to sort the list again, but this time we will be using algortihms."
   ]
  },
  {
   "cell_type": "code",
   "execution_count": null,
   "metadata": {},
   "outputs": [],
   "source": []
  },
  {
   "cell_type": "code",
   "execution_count": null,
   "metadata": {},
   "outputs": [],
   "source": [
    "#Algorithm 1: A so called insertion sort\n",
    "def isort(the_list):\n",
    "    for i in range(1, len(the_list)):\n",
    "        value = the_list[i]\n",
    "        spot = i \n",
    "        while spot > 0 and the_list[spot-1] > value:\n",
    "            the_list[spot] = the_list[spot-1]\n",
    "        the_list[spot] = value\n",
    "the_list = list1\n",
    "isort(the_list)\n",
    "print(the_list)"
   ]
  },
  {
   "cell_type": "code",
   "execution_count": null,
   "metadata": {},
   "outputs": [],
   "source": [
    "#Algorithm 2"
   ]
  },
  {
   "cell_type": "code",
   "execution_count": null,
   "metadata": {},
   "outputs": [],
   "source": [
    "#Algorithm 3"
   ]
  },
  {
   "cell_type": "code",
   "execution_count": null,
   "metadata": {},
   "outputs": [],
   "source": []
  },
  {
   "cell_type": "code",
   "execution_count": null,
   "metadata": {},
   "outputs": [],
   "source": []
  }
 ],
 "metadata": {
  "kernelspec": {
   "display_name": "Python 3",
   "language": "python",
   "name": "python3"
  },
  "language_info": {
   "codemirror_mode": {
    "name": "ipython",
    "version": 3
   },
   "file_extension": ".py",
   "mimetype": "text/x-python",
   "name": "python",
   "nbconvert_exporter": "python",
   "pygments_lexer": "ipython3",
   "version": "3.6.5"
  }
 },
 "nbformat": 4,
 "nbformat_minor": 2
}
